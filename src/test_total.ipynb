{
 "cells": [
  {
   "cell_type": "code",
   "execution_count": 1,
   "metadata": {},
   "outputs": [
    {
     "name": "stderr",
     "output_type": "stream",
     "text": [
      "Using TensorFlow backend.\n"
     ]
    }
   ],
   "source": [
    "import os\n",
    "import numpy as np\n",
    "import pandas as pd\n",
    "import json\n",
    "from tqdm import tqdm_notebook as tqdm\n",
    "\n",
    "import tensorflow as tf\n",
    "from keras.backend.tensorflow_backend import set_session\n",
    "from sklearn.metrics import roc_curve, auc\n",
    "from matplotlib import pyplot as plt\n",
    "\n",
    "from utils import load_config\n",
    "from models.net_keras import *\n",
    "from data_loader.data_loader import get_patches, DataGenerator"
   ]
  },
  {
   "cell_type": "code",
   "execution_count": 2,
   "metadata": {},
   "outputs": [],
   "source": [
    "exp_name = 'seed_1'\n",
    "weights_path = os.path.join('../models/', exp_name, 'weights.h5')\n",
    "json_path = os.path.join('../log/', exp_name + '_info.json')"
   ]
  },
  {
   "cell_type": "code",
   "execution_count": 3,
   "metadata": {},
   "outputs": [],
   "source": [
    "# Load the training file for patch-based, patient-based threshold, and patch size\n",
    "with open(json_path , 'r') as reader:\n",
    "    jf = json.loads(reader.read())\n",
    "patch_threshold = jf['patch_threshold']\n",
    "patient_threshold = jf['patient_threshold']\n",
    "config = jf['config']\n",
    "patch_size = config['dataset']['input_dim'][0]"
   ]
  },
  {
   "cell_type": "code",
   "execution_count": 4,
   "metadata": {},
   "outputs": [],
   "source": [
    "# Env settings\n",
    "os.environ[\"CUDA_VISIBLE_DEVICES\"] = \"1\"\n",
    "gpu_options = tf.GPUOptions(allow_growth=True)\n",
    "sess_config = tf.ConfigProto(gpu_options=gpu_options)\n",
    "set_session(tf.Session(config=sess_config))"
   ]
  },
  {
   "cell_type": "code",
   "execution_count": 5,
   "metadata": {},
   "outputs": [
    {
     "name": "stderr",
     "output_type": "stream",
     "text": [
      "WARNING: Logging before flag parsing goes to stderr.\n",
      "W0210 13:42:01.948721 139697577998080 deprecation_wrapper.py:119] From /opt/python-3.6-packages/keras/2.2.4/keras/backend/tensorflow_backend.py:74: The name tf.get_default_graph is deprecated. Please use tf.compat.v1.get_default_graph instead.\n",
      "\n",
      "W0210 13:42:01.951671 139697577998080 deprecation_wrapper.py:119] From /opt/python-3.6-packages/keras/2.2.4/keras/backend/tensorflow_backend.py:517: The name tf.placeholder is deprecated. Please use tf.compat.v1.placeholder instead.\n",
      "\n",
      "W0210 13:42:01.955879 139697577998080 deprecation_wrapper.py:119] From /opt/python-3.6-packages/keras/2.2.4/keras/backend/tensorflow_backend.py:4138: The name tf.random_uniform is deprecated. Please use tf.random.uniform instead.\n",
      "\n",
      "W0210 13:42:01.999218 139697577998080 deprecation_wrapper.py:119] From /opt/python-3.6-packages/keras/2.2.4/keras/backend/tensorflow_backend.py:3976: The name tf.nn.max_pool is deprecated. Please use tf.nn.max_pool2d instead.\n",
      "\n",
      "W0210 13:42:02.089141 139697577998080 deprecation_wrapper.py:119] From /opt/python-3.6-packages/keras/2.2.4/keras/backend/tensorflow_backend.py:133: The name tf.placeholder_with_default is deprecated. Please use tf.compat.v1.placeholder_with_default instead.\n",
      "\n",
      "W0210 13:42:02.097543 139697577998080 deprecation.py:506] From /opt/python-3.6-packages/keras/2.2.4/keras/backend/tensorflow_backend.py:3445: calling dropout (from tensorflow.python.ops.nn_ops) with keep_prob is deprecated and will be removed in a future version.\n",
      "Instructions for updating:\n",
      "Please use `rate` instead of `keep_prob`. Rate should be set to `rate = 1 - keep_prob`.\n",
      "W0210 13:42:02.176540 139697577998080 deprecation_wrapper.py:119] From /opt/python-3.6-packages/keras/2.2.4/keras/backend/tensorflow_backend.py:174: The name tf.get_default_session is deprecated. Please use tf.compat.v1.get_default_session instead.\n",
      "\n",
      "W0210 13:42:02.861082 139697577998080 deprecation_wrapper.py:119] From /opt/python-3.6-packages/keras/2.2.4/keras/optimizers.py:790: The name tf.train.Optimizer is deprecated. Please use tf.compat.v1.train.Optimizer instead.\n",
      "\n",
      "W0210 13:42:02.873657 139697577998080 deprecation.py:323] From /opt/python-3.6-packages/tensorflow-gpu/1.14.0/tensorflow/python/ops/nn_impl.py:180: add_dispatch_support.<locals>.wrapper (from tensorflow.python.ops.array_ops) is deprecated and will be removed in a future version.\n",
      "Instructions for updating:\n",
      "Use tf.where in 2.0, which has the same broadcast rule as np.where\n"
     ]
    }
   ],
   "source": [
    "# Load the model\n",
    "model = eval('simple_cnn_sigmoid')(config['dataset']['input_dim'])\n",
    "model.load_weights(weights_path, by_name=True)\n",
    "model.compile(\n",
    "    loss=keras.losses.binary_crossentropy,\n",
    "    optimizer=keras.optimizers.Adam(amsgrad=True),\n",
    "    metrics=['accuracy'])"
   ]
  },
  {
   "cell_type": "code",
   "execution_count": 6,
   "metadata": {},
   "outputs": [],
   "source": [
    "mode = 'test'\n",
    "\n",
    "# 'ori': original (Nifti) data\n",
    "# 'box': preprocessed box data (numpy array)\n",
    "load_way = 'ori'\n",
    "\n",
    "# If the data_type is 'tumor', the patient-based ROI will be '2', or it will be '1'\n",
    "data_type = 'tumor'"
   ]
  },
  {
   "cell_type": "markdown",
   "metadata": {},
   "source": [
    "# Evaluate external data"
   ]
  },
  {
   "cell_type": "code",
   "execution_count": 7,
   "metadata": {},
   "outputs": [],
   "source": [
    "data_list = os.listdir('../example_data/image/')"
   ]
  },
  {
   "cell_type": "code",
   "execution_count": 8,
   "metadata": {},
   "outputs": [
    {
     "data": {
      "application/vnd.jupyter.widget-view+json": {
       "model_id": "bb8abdd74a3a4583a894dd55a883ea1b",
       "version_major": 2,
       "version_minor": 0
      },
      "text/plain": [
       "HBox(children=(IntProgress(value=0, max=4), HTML(value='')))"
      ]
     },
     "metadata": {},
     "output_type": "display_data"
    },
    {
     "name": "stdout",
     "output_type": "stream",
     "text": [
      "pancreas_006.nii.gz 197 24 437 132\n",
      "pancreas_005.nii.gz 37 17 112 339\n",
      "pancreas_004.nii.gz 187 32 378 124\n",
      "pancreas_001.nii.gz 363 36 259 26\n",
      "\n"
     ]
    }
   ],
   "source": [
    "test_prediction = pd.DataFrame(\n",
    "    columns=['case_id', 'type', 'detected_patches', 'total_patches', 'prediction', 'tp', 'fn', 'fp', 'tn'])\n",
    "index = 0\n",
    "patient_gt = []\n",
    "patient_pd = []\n",
    "patch_gt = []\n",
    "patch_pd = []\n",
    "datagen = DataGenerator(patch_size, data_type='msd')\n",
    "for case_id in tqdm(data_list):\n",
    "    if load_way == 'ori':\n",
    "        img, lbl = datagen.load_image(case_id)\n",
    "        box_img, box_pan, box_les = datagen.get_boxdata(img, lbl)\n",
    "        image, pancreas, lesion = datagen.preprocessing(box_img, box_pan, box_les)\n",
    "    elif load_way == 'ori_box':\n",
    "        box_img, box_pan, box_les = datagen.load_box(case_id, config['dataset']['box_dir'])\n",
    "        image, pancreas, lesion = datagen.preprocessing(box_img, box_pan, box_les)\n",
    "    elif load_way == 'box':\n",
    "        image, pancreas, lesion = datagen.load_box(case_id, config['dataset']['box_dir'])\n",
    "\n",
    "    datagen.generate_patch(image, pancreas, lesion)\n",
    "    datagen.get_prediction(model, patch_threshold=patch_threshold)\n",
    "\n",
    "    tp, fn, fp, tn = datagen.get_all_value()\n",
    "    gt_pancreas_patches = datagen.gt_pancreas_num()\n",
    "    print(case_id, tp, fn, fp, tn)\n",
    "\n",
    "    probs, Y = datagen.get_probs()\n",
    "    patch_gt.extend(Y)\n",
    "    patch_pd.extend(list(probs.T[0]))\n",
    "    if data_type == 'tumor':\n",
    "        gt_lesion_patches = datagen.gt_lesion_num()\n",
    "        test_prediction.loc[index] = [case_id, 'tumor', tp, gt_lesion_patches, \n",
    "                                         tp / gt_lesion_patches, tp, fn, fp, tn]\n",
    "        patient_gt.append(1)\n",
    "        patient_pd.append(tp / gt_lesion_patches)\n",
    "    else:\n",
    "        gt_pancreas_patches = datagen.gt_pancreas_num()\n",
    "        test_prediction.loc[index] = [case_id, 'healthy', fp, gt_pancreas_patches,\n",
    "                                         fp / gt_pancreas_patches, tp, fn, fp, tn]\n",
    "        patient_gt.append(0)\n",
    "        patient_pd.append(fp / gt_pancreas_patches)\n",
    "    index = index + 1"
   ]
  },
  {
   "cell_type": "code",
   "execution_count": null,
   "metadata": {},
   "outputs": [],
   "source": [
    "print(test_prediction)"
   ]
  },
  {
   "cell_type": "code",
   "execution_count": null,
   "metadata": {},
   "outputs": [],
   "source": []
  }
 ],
 "metadata": {
  "kernelspec": {
   "display_name": "Python 3",
   "language": "python",
   "name": "python3"
  },
  "language_info": {
   "codemirror_mode": {
    "name": "ipython",
    "version": 3
   },
   "file_extension": ".py",
   "mimetype": "text/x-python",
   "name": "python",
   "nbconvert_exporter": "python",
   "pygments_lexer": "ipython3",
   "version": "3.6.8"
  }
 },
 "nbformat": 4,
 "nbformat_minor": 2
}
